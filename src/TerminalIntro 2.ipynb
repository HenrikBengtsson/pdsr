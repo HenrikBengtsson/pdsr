{
  "cells": [
    {
      "cell_type": "markdown",
      "metadata": {},
      "source": [
        "# Introduction to the system shell {#shell}\n",
        "\n",
        "This is a very brief introduction to some of the most commonly used shell commands.\n",
        "\n",
        "A [shell](https://en.wikipedia.org/wiki/Unix_shell) is a command line interface allowing access to \n",
        "an operating system's services. Multiple different shells exist. The most popular is probably \n",
        "[**bash**](https://en.wikipedia.org/wiki/zsh_%28Unix_shell%29), which is the default in most Linux \n",
        "installations. In MacOS, the default shell switched form **zsh** to \n",
        "[**zsh**](https://en.wikipedia.org/wiki/Z_shell) in 2019 with the release of Catalina. In Windows,\n",
        "various shells are available through the \n",
        "[Windows Subsystem for Linux](https://en.wikipedia.org/wiki/Windows_Subsystem_for_Linux).\n",
        "\n",
        "The commands listed here will work similarly in all/most shells.\n",
        "\n",
        "## Common shell commands\n",
        "\n",
        "The first thing to look for in a new environment is the help system. In the shell, this is accessed with `man`:\n",
        "\n",
        "* `man`: Print the manual pages\n"
      ],
      "id": "64824a2d"
    },
    {
      "cell_type": "code",
      "metadata": {},
      "source": [
        "man man"
      ],
      "id": "53ed2a41",
      "execution_count": null,
      "outputs": []
    },
    {
      "cell_type": "markdown",
      "metadata": {},
      "source": [
        "* `pwd`: Print working directory (the directory you are currently in)\n"
      ],
      "id": "31c24143"
    },
    {
      "cell_type": "code",
      "metadata": {},
      "source": [
        "pwd"
      ],
      "id": "e4b33146",
      "execution_count": null,
      "outputs": []
    },
    {
      "cell_type": "markdown",
      "metadata": {},
      "source": [
        "* `cd`: Set working directory to `/path/to/dir`\n"
      ],
      "id": "7de32ac8"
    },
    {
      "cell_type": "code",
      "metadata": {},
      "source": [
        "cd /path/to/dir"
      ],
      "id": "5d903b9b",
      "execution_count": null,
      "outputs": []
    },
    {
      "cell_type": "markdown",
      "metadata": {},
      "source": [
        "* `mv`: Move `file` from `/current/dir/` to `/new/dir`  \n"
      ],
      "id": "16a3eb81"
    },
    {
      "cell_type": "code",
      "metadata": {},
      "source": [
        "mv /current/dir/file /new/dir"
      ],
      "id": "7baad3e9",
      "execution_count": null,
      "outputs": []
    },
    {
      "cell_type": "markdown",
      "metadata": {},
      "source": [
        "* `mv`: Rename `file` to `newfilename` \n"
      ],
      "id": "7b35de11"
    },
    {
      "cell_type": "code",
      "metadata": {},
      "source": [
        "mv /current/dir/file /current/dir/newfilename"
      ],
      "id": "9eb38277",
      "execution_count": null,
      "outputs": []
    },
    {
      "cell_type": "markdown",
      "metadata": {},
      "source": [
        "* `cp`: Make a copy of `file` from `currentPath` into `altPath`\n"
      ],
      "id": "b7b83808"
    },
    {
      "cell_type": "code",
      "metadata": {},
      "source": [
        "cp /currentPath/file /altPath/file"
      ],
      "id": "b15a8a17",
      "execution_count": null,
      "outputs": []
    },
    {
      "cell_type": "markdown",
      "metadata": {},
      "source": [
        "* `rm`: Remove, i.e. delete, file\n"
      ],
      "id": "bb42aeb3"
    },
    {
      "cell_type": "code",
      "metadata": {},
      "source": [
        "rm /path/to/file"
      ],
      "id": "cac2bcd4",
      "execution_count": null,
      "outputs": []
    },
    {
      "cell_type": "markdown",
      "metadata": {},
      "source": [
        "* `mkdir`: Create a new directory named 'somedir'\n"
      ],
      "id": "81711212"
    },
    {
      "cell_type": "code",
      "metadata": {},
      "source": [
        "mkdir /path/to/somedir"
      ],
      "id": "4033d295",
      "execution_count": null,
      "outputs": []
    },
    {
      "cell_type": "markdown",
      "metadata": {},
      "source": [
        "* `rmdir`: Remove, i.e. delete, **empty** directory\n"
      ],
      "id": "2908276d"
    },
    {
      "cell_type": "code",
      "metadata": {},
      "source": [
        "rmdir /path/to/somedir"
      ],
      "id": "8b99da15",
      "execution_count": null,
      "outputs": []
    },
    {
      "cell_type": "markdown",
      "metadata": {},
      "source": [
        "To remove a non-empty directory and all of its contents, you can use `rm -rf`:\n",
        "`-r` is recursive; `-f` is force - use with care! it will immediately delete\n"
      ],
      "id": "e647163d"
    },
    {
      "cell_type": "code",
      "metadata": {},
      "source": [
        "rm -rf /path/to/dir"
      ],
      "id": "a1fa1518",
      "execution_count": null,
      "outputs": []
    },
    {
      "cell_type": "markdown",
      "metadata": {},
      "source": [
        "* `cat`: Print contents of `file` to the console\n"
      ],
      "id": "bc79c5af"
    },
    {
      "cell_type": "code",
      "metadata": {},
      "source": [
        "cat /path/to/file"
      ],
      "id": "35b81296",
      "execution_count": null,
      "outputs": []
    },
    {
      "cell_type": "markdown",
      "metadata": {},
      "source": [
        "* `uname`: Get system information\n"
      ],
      "id": "8b1f71d2"
    },
    {
      "cell_type": "code",
      "metadata": {},
      "source": [
        "uname -a"
      ],
      "id": "a372b32a",
      "execution_count": null,
      "outputs": []
    },
    {
      "cell_type": "markdown",
      "metadata": {},
      "source": [
        "* `whoami`: Get the currently logged in user's name\n"
      ],
      "id": "a8b0706a"
    },
    {
      "cell_type": "code",
      "metadata": {},
      "source": [
        "whoami"
      ],
      "id": "5166f803",
      "execution_count": null,
      "outputs": []
    },
    {
      "cell_type": "markdown",
      "metadata": {},
      "source": [
        "## Running system commands within R\n",
        "\n",
        "You can execute any system command within R using the `system()` command:\n"
      ],
      "id": "9f1192c7"
    },
    {
      "cell_type": "code",
      "metadata": {},
      "source": [
        "system(\"uname -a\")"
      ],
      "id": "831a3095",
      "execution_count": null,
      "outputs": []
    },
    {
      "cell_type": "markdown",
      "metadata": {},
      "source": [
        "## Useful terminal commands for working with data\n",
        "\n",
        "If you receive a data file, you may want to get an idea of the contents before reading it\n",
        "into R.\n",
        "\n",
        "* `head`: Print the first few lines\n"
      ],
      "id": "6599745b"
    },
    {
      "cell_type": "code",
      "metadata": {},
      "source": [
        "head ~/icloud/Data/iris.csv"
      ],
      "id": "508ca70e",
      "execution_count": null,
      "outputs": []
    }
  ],
  "metadata": {
    "kernelspec": {
      "name": "zsh",
      "language": "zsh",
      "display_name": "Z shell"
    }
  },
  "nbformat": 4,
  "nbformat_minor": 5
}