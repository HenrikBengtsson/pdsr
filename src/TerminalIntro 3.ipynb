{
  "cells": [
    {
      "cell_type": "markdown",
      "metadata": {},
      "source": [
        "# Introduction to the system shell {#shell}\n",
        "\n",
        "This is a very brief introduction to some of the most commonly used shell commands.\n",
        "\n",
        "A [shell](https://en.wikipedia.org/wiki/Unix_shell) is a command line interface allowing access to \n",
        "an operating system's services. Multiple different shells exist. The most popular is probably \n",
        "[**bash**](https://en.wikipedia.org/wiki/zsh_%28Unix_shell%29), which is the default in most Linux \n",
        "installations. In MacOS, the default shell switched form **zsh** to \n",
        "[**zsh**](https://en.wikipedia.org/wiki/Z_shell) in 2019 with the release of Catalina. In Windows,\n",
        "various shells are available through the \n",
        "[Windows Subsystem for Linux](https://en.wikipedia.org/wiki/Windows_Subsystem_for_Linux).\n",
        "\n",
        "The commands listed here will work similarly in all/most shells.\n",
        "\n",
        "## Common shell commands\n",
        "\n",
        "The first thing to look for in a new environment is the help system. In the shell, this is accessed with `man`:\n",
        "\n",
        "* `man`: Print the manual pages\n"
      ],
      "id": "a913a60c"
    },
    {
      "cell_type": "code",
      "metadata": {},
      "source": [
        "man man"
      ],
      "id": "7c92f21f",
      "execution_count": null,
      "outputs": []
    },
    {
      "cell_type": "markdown",
      "metadata": {},
      "source": [
        "* `pwd`: Print working directory (the directory you are currently in)\n"
      ],
      "id": "75505e4d"
    },
    {
      "cell_type": "code",
      "metadata": {},
      "source": [
        "pwd"
      ],
      "id": "169d49c3",
      "execution_count": null,
      "outputs": []
    },
    {
      "cell_type": "markdown",
      "metadata": {},
      "source": [
        "* `cd`: Set working directory to `/path/to/dir`\n"
      ],
      "id": "aef6ff5d"
    },
    {
      "cell_type": "code",
      "metadata": {},
      "source": [
        "cd /path/to/dir"
      ],
      "id": "18f48881",
      "execution_count": null,
      "outputs": []
    },
    {
      "cell_type": "markdown",
      "metadata": {},
      "source": [
        "* `mv`: Move `file` from `/current/dir/` to `/new/dir`  \n"
      ],
      "id": "8d3369c3"
    },
    {
      "cell_type": "code",
      "metadata": {},
      "source": [
        "mv /current/dir/file /new/dir"
      ],
      "id": "4abfb2f9",
      "execution_count": null,
      "outputs": []
    },
    {
      "cell_type": "markdown",
      "metadata": {},
      "source": [
        "* `mv`: Rename `file` to `newfilename` \n"
      ],
      "id": "e6706590"
    },
    {
      "cell_type": "code",
      "metadata": {},
      "source": [
        "mv /current/dir/file /current/dir/newfilename"
      ],
      "id": "24d19ee8",
      "execution_count": null,
      "outputs": []
    },
    {
      "cell_type": "markdown",
      "metadata": {},
      "source": [
        "* `cp`: Make a copy of `file` from `currentPath` into `altPath`\n"
      ],
      "id": "b6cfe178"
    },
    {
      "cell_type": "code",
      "metadata": {},
      "source": [
        "cp /currentPath/file /altPath/file"
      ],
      "id": "782085be",
      "execution_count": null,
      "outputs": []
    },
    {
      "cell_type": "markdown",
      "metadata": {},
      "source": [
        "* `rm`: Remove, i.e. delete, file\n"
      ],
      "id": "018e9385"
    },
    {
      "cell_type": "code",
      "metadata": {},
      "source": [
        "rm /path/to/file"
      ],
      "id": "7cc9862a",
      "execution_count": null,
      "outputs": []
    },
    {
      "cell_type": "markdown",
      "metadata": {},
      "source": [
        "* `mkdir`: Create a new directory named 'somedir'\n"
      ],
      "id": "3f663d46"
    },
    {
      "cell_type": "code",
      "metadata": {},
      "source": [
        "mkdir /path/to/somedir"
      ],
      "id": "40ed9548",
      "execution_count": null,
      "outputs": []
    },
    {
      "cell_type": "markdown",
      "metadata": {},
      "source": [
        "* `rmdir`: Remove, i.e. delete, **empty** directory\n"
      ],
      "id": "8d652958"
    },
    {
      "cell_type": "code",
      "metadata": {},
      "source": [
        "rmdir /path/to/somedir"
      ],
      "id": "b7338cc5",
      "execution_count": null,
      "outputs": []
    },
    {
      "cell_type": "markdown",
      "metadata": {},
      "source": [
        "To remove a non-empty directory and all of its contents, you can use `rm -rf`:\n",
        "`-r` is recursive; `-f` is force - use with care! it will immediately delete\n"
      ],
      "id": "21b0cefc"
    },
    {
      "cell_type": "code",
      "metadata": {},
      "source": [
        "rm -rf /path/to/dir"
      ],
      "id": "0953301a",
      "execution_count": null,
      "outputs": []
    },
    {
      "cell_type": "markdown",
      "metadata": {},
      "source": [
        "* `cat`: Print contents of `file` to the console\n"
      ],
      "id": "f5c977b7"
    },
    {
      "cell_type": "code",
      "metadata": {},
      "source": [
        "cat /path/to/file"
      ],
      "id": "fd9c24c8",
      "execution_count": null,
      "outputs": []
    },
    {
      "cell_type": "markdown",
      "metadata": {},
      "source": [
        "* `uname`: Get system information\n"
      ],
      "id": "0d867f95"
    },
    {
      "cell_type": "code",
      "metadata": {},
      "source": [
        "uname -a"
      ],
      "id": "f7c81ba6",
      "execution_count": null,
      "outputs": []
    },
    {
      "cell_type": "markdown",
      "metadata": {},
      "source": [
        "* `whoami`: Get the currently logged in user's name\n"
      ],
      "id": "58bf2cc3"
    },
    {
      "cell_type": "code",
      "metadata": {},
      "source": [
        "whoami"
      ],
      "id": "6cc9f286",
      "execution_count": null,
      "outputs": []
    },
    {
      "cell_type": "markdown",
      "metadata": {},
      "source": [
        "## Running system commands within R\n",
        "\n",
        "You can execute any system command within R using the `system()` command:\n"
      ],
      "id": "9832febf"
    },
    {
      "cell_type": "code",
      "metadata": {},
      "source": [
        "system(\"uname -a\")"
      ],
      "id": "eaae6045",
      "execution_count": null,
      "outputs": []
    },
    {
      "cell_type": "markdown",
      "metadata": {},
      "source": [
        "## Useful terminal commands for working with data\n",
        "\n",
        "If you receive a data file, you may want to get an idea of the contents before reading it\n",
        "into R.\n",
        "\n",
        "* `head`: Print the first few lines\n"
      ],
      "id": "2426bfba"
    },
    {
      "cell_type": "code",
      "metadata": {},
      "source": [
        "head ~/icloud/Data/iris.csv"
      ],
      "id": "bfbc4caa",
      "execution_count": null,
      "outputs": []
    }
  ],
  "metadata": {
    "kernelspec": {
      "name": "zsh",
      "language": "zsh",
      "display_name": "Z shell"
    }
  },
  "nbformat": 4,
  "nbformat_minor": 5
}