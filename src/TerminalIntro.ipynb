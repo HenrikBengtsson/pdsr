{
  "cells": [
    {
      "cell_type": "markdown",
      "metadata": {},
      "source": [
        "# Introduction to the system shell {#shell}\n",
        "\n",
        "This is a very brief introduction to some of the most commonly used shell commands.\n",
        "\n",
        "A [shell](https://en.wikipedia.org/wiki/Unix_shell) is a command line interface allowing access to \n",
        "an operating system's services. Multiple different shells exist. The most popular is probably \n",
        "[**bash**](https://en.wikipedia.org/wiki/zsh_%28Unix_shell%29), which is the default in most Linux \n",
        "installations. In MacOS, the default shell switched form **zsh** to \n",
        "[**zsh**](https://en.wikipedia.org/wiki/Z_shell) in 2019 with the release of Catalina. In Windows,\n",
        "various shells are available through the \n",
        "[Windows Subsystem for Linux](https://en.wikipedia.org/wiki/Windows_Subsystem_for_Linux).\n",
        "\n",
        "The commands listed here will work similarly in all/most shells.\n",
        "\n",
        "## Common shell commands\n",
        "\n",
        "The first thing to look for in a new environment is the help system. In the shell, this is accessed with `man`:\n",
        "\n",
        "* `man`: Print the manual pages\n"
      ],
      "id": "8b047de7"
    },
    {
      "cell_type": "code",
      "metadata": {},
      "source": [
        "man man"
      ],
      "id": "4c248ea9",
      "execution_count": null,
      "outputs": []
    },
    {
      "cell_type": "markdown",
      "metadata": {},
      "source": [
        "* `pwd`: Print working directory (the directory you are currently in)\n"
      ],
      "id": "89fc8d51"
    },
    {
      "cell_type": "code",
      "metadata": {},
      "source": [
        "pwd"
      ],
      "id": "c54af6fd",
      "execution_count": null,
      "outputs": []
    },
    {
      "cell_type": "markdown",
      "metadata": {},
      "source": [
        "* `cd`: Set working directory to `/path/to/dir`\n"
      ],
      "id": "1bc33348"
    },
    {
      "cell_type": "code",
      "metadata": {},
      "source": [
        "cd /path/to/dir"
      ],
      "id": "3f0456cb",
      "execution_count": null,
      "outputs": []
    },
    {
      "cell_type": "markdown",
      "metadata": {},
      "source": [
        "* `mv`: Move `file` from `/current/dir/` to `/new/dir`  \n"
      ],
      "id": "506749ec"
    },
    {
      "cell_type": "code",
      "metadata": {},
      "source": [
        "mv /current/dir/file /new/dir"
      ],
      "id": "0bf7a80b",
      "execution_count": null,
      "outputs": []
    },
    {
      "cell_type": "markdown",
      "metadata": {},
      "source": [
        "* `mv`: Rename `file` to `newfilename` \n"
      ],
      "id": "df24c682"
    },
    {
      "cell_type": "code",
      "metadata": {},
      "source": [
        "mv /current/dir/file /current/dir/newfilename"
      ],
      "id": "260d376f",
      "execution_count": null,
      "outputs": []
    },
    {
      "cell_type": "markdown",
      "metadata": {},
      "source": [
        "* `cp`: Make a copy of `file` from `currentPath` into `altPath`\n"
      ],
      "id": "e733bd1e"
    },
    {
      "cell_type": "code",
      "metadata": {},
      "source": [
        "cp /currentPath/file /altPath/file"
      ],
      "id": "91db6cc0",
      "execution_count": null,
      "outputs": []
    },
    {
      "cell_type": "markdown",
      "metadata": {},
      "source": [
        "* `rm`: Remove, i.e. delete, file\n"
      ],
      "id": "db691ddf"
    },
    {
      "cell_type": "code",
      "metadata": {},
      "source": [
        "rm /path/to/file"
      ],
      "id": "ab5d5dd0",
      "execution_count": null,
      "outputs": []
    },
    {
      "cell_type": "markdown",
      "metadata": {},
      "source": [
        "* `mkdir`: Create a new directory named 'somedir'\n"
      ],
      "id": "f5dba117"
    },
    {
      "cell_type": "code",
      "metadata": {},
      "source": [
        "mkdir /path/to/somedir"
      ],
      "id": "73ba47a8",
      "execution_count": null,
      "outputs": []
    },
    {
      "cell_type": "markdown",
      "metadata": {},
      "source": [
        "* `rmdir`: Remove, i.e. delete, **empty** directory\n"
      ],
      "id": "1b277810"
    },
    {
      "cell_type": "code",
      "metadata": {},
      "source": [
        "rmdir /path/to/somedir"
      ],
      "id": "6f90e7d6",
      "execution_count": null,
      "outputs": []
    },
    {
      "cell_type": "markdown",
      "metadata": {},
      "source": [
        "To remove a non-empty directory and all of its contents, you can use `rm -rf`:\n",
        "`-r` is recursive; `-f` is force - use with care! it will immediately delete\n"
      ],
      "id": "70c6c358"
    },
    {
      "cell_type": "code",
      "metadata": {},
      "source": [
        "rm -rf /path/to/dir"
      ],
      "id": "d430007d",
      "execution_count": null,
      "outputs": []
    },
    {
      "cell_type": "markdown",
      "metadata": {},
      "source": [
        "* `cat`: Print contents of `file` to the console\n"
      ],
      "id": "af0b783c"
    },
    {
      "cell_type": "code",
      "metadata": {},
      "source": [
        "cat /path/to/file"
      ],
      "id": "90817608",
      "execution_count": null,
      "outputs": []
    },
    {
      "cell_type": "markdown",
      "metadata": {},
      "source": [
        "* `uname`: Get system information\n"
      ],
      "id": "4aab543b"
    },
    {
      "cell_type": "code",
      "metadata": {},
      "source": [
        "uname -a"
      ],
      "id": "450b6ee4",
      "execution_count": null,
      "outputs": []
    },
    {
      "cell_type": "markdown",
      "metadata": {},
      "source": [
        "* `whoami`: Get the currently logged in user's name\n"
      ],
      "id": "62fc50a1"
    },
    {
      "cell_type": "code",
      "metadata": {},
      "source": [
        "whoami"
      ],
      "id": "dfc7e598",
      "execution_count": null,
      "outputs": []
    },
    {
      "cell_type": "markdown",
      "metadata": {},
      "source": [
        "## Running system commands within R\n",
        "\n",
        "You can execute any system command within R using the `system()` command:\n"
      ],
      "id": "f95d2ea2"
    },
    {
      "cell_type": "code",
      "metadata": {},
      "source": [
        "system(\"uname -a\")"
      ],
      "id": "a7ba7ddc",
      "execution_count": null,
      "outputs": []
    },
    {
      "cell_type": "markdown",
      "metadata": {},
      "source": [
        "## Useful terminal commands for working with data\n",
        "\n",
        "If you receive a data file, you may want to get an idea of the contents before reading it\n",
        "into R.\n",
        "\n",
        "* `head`: Print the first few lines\n"
      ],
      "id": "b4195a11"
    },
    {
      "cell_type": "code",
      "metadata": {},
      "source": [
        "head ~/icloud/Data/iris.csv"
      ],
      "id": "258c60a0",
      "execution_count": null,
      "outputs": []
    }
  ],
  "metadata": {
    "kernelspec": {
      "name": "bash",
      "language": "bash",
      "display_name": "Bash"
    }
  },
  "nbformat": 4,
  "nbformat_minor": 5
}